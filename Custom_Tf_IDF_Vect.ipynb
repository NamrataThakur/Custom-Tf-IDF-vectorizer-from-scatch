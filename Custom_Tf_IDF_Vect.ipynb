{
 "cells": [
  {
   "cell_type": "markdown",
   "metadata": {
    "colab_type": "text",
    "id": "h9464I-uxLiw"
   },
   "source": [
    "# Assignment"
   ]
  },
  {
   "cell_type": "markdown",
   "metadata": {
    "colab_type": "text",
    "id": "IvLvmewlxLix"
   },
   "source": [
    "<font face='georgia'>\n",
    "    \n",
    "   <h4><strong>What does tf-idf mean?</strong></h4>\n",
    "\n",
    "   <p>    \n",
    "Tf-idf stands for <em>term frequency-inverse document frequency</em>, and the tf-idf weight is a weight often used in information retrieval and text mining. This weight is a statistical measure used to evaluate how important a word is to a document in a collection or corpus. The importance increases proportionally to the number of times a word appears in the document but is offset by the frequency of the word in the corpus. Variations of the tf-idf weighting scheme are often used by search engines as a central tool in scoring and ranking a document's relevance given a user query.\n",
    "</p>\n",
    "    \n",
    "   <p>\n",
    "One of the simplest ranking functions is computed by summing the tf-idf for each query term; many more sophisticated ranking functions are variants of this simple model.\n",
    "</p>\n",
    "    \n",
    "   <p>\n",
    "Tf-idf can be successfully used for stop-words filtering in various subject fields including text summarization and classification.\n",
    "</p>\n",
    "    \n",
    "</font>"
   ]
  },
  {
   "cell_type": "markdown",
   "metadata": {
    "colab_type": "text",
    "id": "4XLaGFUMxLiy"
   },
   "source": [
    "<font face='georgia'>\n",
    "    <h4><strong>How to Compute:</strong></h4>\n",
    "\n",
    "Typically, the tf-idf weight is composed by two terms: the first computes the normalized Term Frequency (TF), aka. the number of times a word appears in a document, divided by the total number of words in that document; the second term is the Inverse Document Frequency (IDF), computed as the logarithm of the number of the documents in the corpus divided by the number of documents where the specific term appears.\n",
    "\n",
    " <ul>\n",
    "    <li>\n",
    "<strong>TF:</strong> Term Frequency, which measures how frequently a term occurs in a document. Since every document is different in length, it is possible that a term would appear much more times in long documents than shorter ones. Thus, the term frequency is often divided by the document length (aka. the total number of terms in the document) as a way of normalization: <br>\n",
    "\n",
    "$TF(t) = \\frac{\\text{Number of times term t appears in a document}}{\\text{Total number of terms in the document}}.$\n",
    "</li>\n",
    "<li>\n",
    "<strong>IDF:</strong> Inverse Document Frequency, which measures how important a term is. While computing TF, all terms are considered equally important. However it is known that certain terms, such as \"is\", \"of\", and \"that\", may appear a lot of times but have little importance. Thus we need to weigh down the frequent terms while scale up the rare ones, by computing the following: <br>\n",
    "\n",
    "$IDF(t) = \\log_{e}\\frac{\\text{Total  number of documents}} {\\text{Number of documents with term t in it}}.$\n",
    "for numerical stabiltiy we will be changing this formula little bit\n",
    "$IDF(t) = \\log_{e}\\frac{\\text{Total  number of documents}} {\\text{Number of documents with term t in it}+1}.$\n",
    "</li>\n",
    "</ul>\n",
    "\n",
    "<br>\n",
    "<h4><strong>Example</strong></h4>\n",
    "<p>\n",
    "\n",
    "Consider a document containing 100 words wherein the word cat appears 3 times. The term frequency (i.e., tf) for cat is then (3 / 100) = 0.03. Now, assume we have 10 million documents and the word cat appears in one thousand of these. Then, the inverse document frequency (i.e., idf) is calculated as log(10,000,000 / 1,000) = 4. Thus, the Tf-idf weight is the product of these quantities: 0.03 * 4 = 0.12.\n",
    "</p>\n",
    "</font>"
   ]
  },
  {
   "cell_type": "markdown",
   "metadata": {
    "colab_type": "text",
    "id": "dg2ooa4DxLiz"
   },
   "source": [
    "## Task-1"
   ]
  },
  {
   "cell_type": "markdown",
   "metadata": {
    "colab_type": "text",
    "id": "TAcTjhO8xLiz"
   },
   "source": [
    "<font face='georgia'>\n",
    "    <h4><strong>1. Build a TFIDF Vectorizer & compare its results with Sklearn:</strong></h4>\n",
    "\n",
    "<ul>\n",
    "    <li> As a part of this task you will be implementing TFIDF vectorizer on a collection of text documents.</li>\n",
    "    <br>\n",
    "    <li> You should compare the results of your own implementation of TFIDF vectorizer with that of sklearns implemenation TFIDF vectorizer.</li>\n",
    "    <br>\n",
    "    <li> Sklearn does few more tweaks in the implementation of its version of TFIDF vectorizer, so to replicate the exact results you would need to add following things to your custom implementation of tfidf vectorizer:\n",
    "       <ol>\n",
    "        <li> Sklearn has its vocabulary generated from idf sorted in alphabetical order</li>\n",
    "        <li> Sklearn formula of idf is different from the standard textbook formula. Here the constant <strong>\"1\"</strong> is added to the numerator and denominator of the idf as if an extra document was seen containing every term in the collection exactly once, which prevents zero divisions.\n",
    "            \n",
    " $IDF(t) = 1+\\log_{e}\\frac{1\\text{ }+\\text{ Total  number of documents in collection}} {1+\\text{Number of documents with term t in it}}.$\n",
    "        </li>\n",
    "        <li> Sklearn applies L2-normalization on its output matrix.</li>\n",
    "        <li> The final output of sklearn tfidf vectorizer is a sparse matrix.</li>\n",
    "    </ol>\n",
    "    <br>\n",
    "    <li>Steps to approach this task:\n",
    "    <ol>\n",
    "        <li> You would have to write both fit and transform methods for your custom implementation of tfidf vectorizer.</li>\n",
    "        <li> Print out the alphabetically sorted vocab after you fit your data and check if its the same as that of the feature names from sklearn tfidf vectorizer. </li>\n",
    "        <li> Print out the idf values from your implementation and check if its the same as that of sklearns tfidf vectorizer idf values. </li>\n",
    "        <li> Once you get your vocab and idf values to be same as that of sklearns implementation of tfidf vectorizer, proceed to the below steps. </li>\n",
    "        <li> Make sure the output of your implementation is a sparse matrix. Before generating the final output, you need to normalize your sparse matrix using L2 normalization. You can refer to this link https://scikit-learn.org/stable/modules/generated/sklearn.preprocessing.normalize.html </li>\n",
    "        <li> After completing the above steps, print the output of your custom implementation and compare it with sklearns implementation of tfidf vectorizer.</li>\n",
    "        <li> To check the output of a single document in your collection of documents,  you can convert the sparse matrix related only to that document into dense matrix and print it.</li>\n",
    "        </ol>\n",
    "    </li>\n",
    "    <br>\n",
    "   </ul>\n",
    "\n",
    "  <p> <font color=\"#e60000\"><strong>Note-1: </strong></font> All the necessary outputs of sklearns tfidf vectorizer have been provided as reference in this notebook, you can compare your outputs as mentioned in the above steps, with these outputs.<br>\n",
    "   <font color=\"#e60000\"><strong>Note-2: </strong></font> The output of your custom implementation and that of sklearns implementation would match only with the collection of document strings provided to you as reference in this notebook. It would not match for strings that contain capital letters or punctuations, etc, because sklearn version of tfidf vectorizer deals with such strings in a different way. To know further details about how sklearn tfidf vectorizer works with such string, you can always refer to its official documentation.<br>\n",
    "   <font color=\"#e60000\"><strong>Note-3: </strong></font> During this task, it would be helpful for you to debug the code you write with print statements wherever necessary. But when you are finally submitting the assignment, make sure your code is readable and try not to print things which are not part of this task.\n",
    "    </p>"
   ]
  },
  {
   "cell_type": "markdown",
   "metadata": {
    "colab_type": "text",
    "id": "OnV82tg1xLi0"
   },
   "source": [
    "### Corpus"
   ]
  },
  {
   "cell_type": "code",
   "execution_count": 1,
   "metadata": {
    "colab": {},
    "colab_type": "code",
    "id": "bUsYm9wjxLi1"
   },
   "outputs": [],
   "source": [
    "## SkLearn# Collection of string documents\n",
    "\n",
    "corpus = [\n",
    "     'this is the first document',\n",
    "     'this document is the second document',\n",
    "     'and this is the third one',\n",
    "     'is this the first document',\n",
    "]"
   ]
  },
  {
   "cell_type": "markdown",
   "metadata": {
    "colab_type": "text",
    "id": "eLwmFZfKxLi4"
   },
   "source": [
    "### SkLearn Implementation"
   ]
  },
  {
   "cell_type": "code",
   "execution_count": 2,
   "metadata": {
    "colab": {},
    "colab_type": "code",
    "id": "Np4dfQOkxLi4"
   },
   "outputs": [],
   "source": [
    "from sklearn.feature_extraction.text import TfidfVectorizer\n",
    "vectorizer = TfidfVectorizer()\n",
    "vectorizer.fit(corpus)\n",
    "skl_output = vectorizer.transform(corpus)"
   ]
  },
  {
   "cell_type": "code",
   "execution_count": 3,
   "metadata": {
    "colab": {},
    "colab_type": "code",
    "id": "-7Om8YpYxLi6",
    "outputId": "0a3bd0f5-4424-4400-944f-4482a80bd799"
   },
   "outputs": [
    {
     "name": "stdout",
     "output_type": "stream",
     "text": [
      "['and', 'document', 'first', 'is', 'one', 'second', 'the', 'third', 'this']\n"
     ]
    }
   ],
   "source": [
    "# sklearn feature names, they are sorted in alphabetic order by default.\n",
    "\n",
    "print(vectorizer.get_feature_names())"
   ]
  },
  {
   "cell_type": "code",
   "execution_count": 4,
   "metadata": {
    "colab": {},
    "colab_type": "code",
    "id": "dTKplK96xLi-",
    "outputId": "53722fa2-6756-4aa0-f179-37b578bb6890"
   },
   "outputs": [
    {
     "name": "stdout",
     "output_type": "stream",
     "text": [
      "[1.91629073 1.22314355 1.51082562 1.         1.91629073 1.91629073\n",
      " 1.         1.91629073 1.        ]\n"
     ]
    }
   ],
   "source": [
    "# Here we will print the sklearn tfidf vectorizer idf values after applying the fit method\n",
    "# After using the fit function on the corpus the vocab has 9 words in it, and each has its idf value.\n",
    "\n",
    "print(vectorizer.idf_)"
   ]
  },
  {
   "cell_type": "code",
   "execution_count": 5,
   "metadata": {
    "colab": {},
    "colab_type": "code",
    "id": "-CTiWHygxLjA",
    "outputId": "8d5a9cde-2c29-4afe-f7b4-1547e88dba4f"
   },
   "outputs": [
    {
     "data": {
      "text/plain": [
       "(4, 9)"
      ]
     },
     "execution_count": 5,
     "metadata": {},
     "output_type": "execute_result"
    }
   ],
   "source": [
    "# shape of sklearn tfidf vectorizer output after applying transform method.\n",
    "\n",
    "skl_output.shape"
   ]
  },
  {
   "cell_type": "code",
   "execution_count": 6,
   "metadata": {
    "colab": {},
    "colab_type": "code",
    "id": "bDKEpbA-xLjD",
    "outputId": "87dafd65-5313-443f-8c6e-1b05cc8c2543"
   },
   "outputs": [
    {
     "name": "stdout",
     "output_type": "stream",
     "text": [
      "  (0, 8)\t0.38408524091481483\n",
      "  (0, 6)\t0.38408524091481483\n",
      "  (0, 3)\t0.38408524091481483\n",
      "  (0, 2)\t0.5802858236844359\n",
      "  (0, 1)\t0.46979138557992045\n"
     ]
    }
   ],
   "source": [
    "# sklearn tfidf values for first line of the above corpus.\n",
    "# Here the output is a sparse matrix\n",
    "\n",
    "print(skl_output[0])"
   ]
  },
  {
   "cell_type": "code",
   "execution_count": 7,
   "metadata": {
    "colab": {},
    "colab_type": "code",
    "id": "3QWo34hexLjF",
    "outputId": "cdc04e08-989f-4bdc-dd7f-f1c82a9f90be"
   },
   "outputs": [
    {
     "name": "stdout",
     "output_type": "stream",
     "text": [
      "[[0.         0.46979139 0.58028582 0.38408524 0.         0.\n",
      "  0.38408524 0.         0.38408524]]\n"
     ]
    }
   ],
   "source": [
    "# sklearn tfidf values for first line of the above corpus.\n",
    "# To understand the output better, here we are converting the sparse output matrix to dense matrix and printing it.\n",
    "# Notice that this output is normalized using L2 normalization. sklearn does this by default.\n",
    "\n",
    "print(skl_output[0].toarray())"
   ]
  },
  {
   "cell_type": "markdown",
   "metadata": {
    "colab_type": "text",
    "id": "qfIwx5LzxLjI"
   },
   "source": [
    "### Your custom implementation"
   ]
  },
  {
   "cell_type": "code",
   "execution_count": 8,
   "metadata": {
    "colab": {},
    "colab_type": "code",
    "id": "HjuCcJwXxLjJ"
   },
   "outputs": [],
   "source": [
    "# Write your code here.\n",
    "# Make sure its well documented and readble with appropriate comments.\n",
    "# Compare your results with the above sklearn tfidf vectorizer\n",
    "# You are not supposed to use any other library apart from the ones given below\n",
    "\n",
    "from collections import Counter\n",
    "from tqdm import tqdm\n",
    "from scipy.sparse import csr_matrix\n",
    "import math\n",
    "import operator\n",
    "from sklearn.preprocessing import normalize\n",
    "import numpy"
   ]
  },
  {
   "cell_type": "code",
   "execution_count": 9,
   "metadata": {},
   "outputs": [],
   "source": [
    "## SkLearn# Collection of string documents\n",
    "\n",
    "corpus = [\n",
    "     'this is the first document',\n",
    "     'this document is the second document',\n",
    "     'and this is the third one',\n",
    "     'is this the first document',\n",
    "]"
   ]
  },
  {
   "cell_type": "markdown",
   "metadata": {},
   "source": [
    "#### Custom FIT Function:"
   ]
  },
  {
   "cell_type": "code",
   "execution_count": 10,
   "metadata": {},
   "outputs": [],
   "source": [
    "#Function to get idf values for every word in the vocabulary\n",
    "def get_idf_values(corpus, vocab):\n",
    "    dict_doc_term = {}\n",
    "    idf_values = {}\n",
    "    \n",
    "    #Getting the length of the corpus or total number of documents present in the corpus\n",
    "    num_doc_corpus = len(corpus)\n",
    "    \n",
    "    #Iterating over every word in the vocab\n",
    "    for word in vocab:\n",
    "    \n",
    "        #Iterating over every document of the corpus\n",
    "        for sent in corpus:\n",
    "        \n",
    "            #Checking if word is present in the current document\n",
    "            if word in sent.split(\" \"):\n",
    "                \n",
    "                #Getting the latest count of documents containing the particular word (default count : 0)\n",
    "                count = dict_doc_term.get(word,0)\n",
    "                \n",
    "                #Updating the count of word in the dictionary\n",
    "                dict_doc_term[word] = count+1\n",
    "                \n",
    "                #Calculating the denominator of the idf formulae\n",
    "                idf_denorm = dict_doc_term.get(word)\n",
    "                \n",
    "                #IDF value prior to log\n",
    "                idf = (num_doc_corpus+1)/(idf_denorm+1)\n",
    "                \n",
    "                #Final IDF Value for the particular word\n",
    "                final_idf = 1 + math.log(idf,2.7182818)\n",
    "                \n",
    "                #Updating the idf dictionary with the final idf value for the word\n",
    "                idf_values[word]=final_idf\n",
    "                \n",
    "    return dict_doc_term,idf_values\n",
    "\n",
    "\n",
    "#Function to create the Vocabulary for the given corpus\n",
    "def fit(corpus):\n",
    "    \n",
    "    #Set of unique words present in the corpus\n",
    "    unq_words = set()\n",
    "    \n",
    "    #Dictionary containing every word in vocab and its idf value\n",
    "    idf_values = {}\n",
    "    \n",
    "    #Dictionary containing term and the count of unique documents where the term appears\n",
    "    dict_doc_term = {}\n",
    "    \n",
    "    #Checking if the corpus is a list or not, proceed if yes\n",
    "    if isinstance(corpus, (list,)):\n",
    "        \n",
    "        #Getting the length of corpus\n",
    "        num_doc_corpus = len(corpus)\n",
    "        \n",
    "        #Iterating over every document in the corpus\n",
    "        for sent in corpus:\n",
    "            \n",
    "            #Iterating over each word present in a document\n",
    "            for word in sent.split(\" \"):\n",
    "                \n",
    "                #Discarding words if length is less than 2 (eg. a/an)\n",
    "                if len(word)<2:\n",
    "                    continue\n",
    "                else:\n",
    "                    \n",
    "                    #Creating the set of unique words present in all documents of the corpus\n",
    "                    unq_words.add(word)\n",
    "        \n",
    "        #Sorting the words in the set\n",
    "        unq_words = sorted(list(unq_words))\n",
    "        \n",
    "        #Creating the vocabulary (with word and its index) for the corpus\n",
    "        vocabulary = {j:i for i,j in enumerate(unq_words)}\n",
    "        \n",
    "        #Get the idf values of every word in the vocab\n",
    "        dict_doc_term,idf_values = get_idf_values(corpus, unq_words)\n",
    "        \n",
    "        #Sort the idf values\n",
    "        idf1 = sorted(idf_values)\n",
    "        \n",
    "        #Final sorted vocab with idf values\n",
    "        sorted_idf = {key:idf_values[key] for key in idf1} \n",
    "        \n",
    "        return vocabulary,sorted_idf,dict_doc_term\n",
    "                \n",
    "    else:\n",
    "        print(\"Please provide correct input. Correct input is a list of strings\")"
   ]
  },
  {
   "cell_type": "markdown",
   "metadata": {},
   "source": [
    "#### Testing Custom TF-IDF Results with TfIdf Vectorizer result (After Fit Function)"
   ]
  },
  {
   "cell_type": "code",
   "execution_count": 11,
   "metadata": {},
   "outputs": [
    {
     "name": "stdout",
     "output_type": "stream",
     "text": [
      "Dictionary of Word and Count of documents it is present ::\n",
      "  {'and': 1, 'document': 3, 'first': 2, 'is': 4, 'one': 1, 'second': 1, 'the': 4, 'third': 1, 'this': 4}\n"
     ]
    }
   ],
   "source": [
    "#Fitting custom fit function on the corpus\n",
    "custom_vocab,sorted_idf,dict_doc_term = fit(corpus)\n",
    "print(\"Dictionary of Word and Count of documents it is present ::\\n \", dict_doc_term)"
   ]
  },
  {
   "cell_type": "code",
   "execution_count": 12,
   "metadata": {},
   "outputs": [
    {
     "data": {
      "text/plain": [
       "{'and': 1.9162907414672588,\n",
       " 'document': 1.2231435536504107,\n",
       " 'first': 1.5108256291140785,\n",
       " 'is': 1.0,\n",
       " 'one': 1.9162907414672588,\n",
       " 'second': 1.9162907414672588,\n",
       " 'the': 1.0,\n",
       " 'third': 1.9162907414672588,\n",
       " 'this': 1.0}"
      ]
     },
     "execution_count": 12,
     "metadata": {},
     "output_type": "execute_result"
    }
   ],
   "source": [
    "#Custom IDF Values for every word in vocab\n",
    "sorted_idf"
   ]
  },
  {
   "cell_type": "code",
   "execution_count": 13,
   "metadata": {},
   "outputs": [
    {
     "name": "stdout",
     "output_type": "stream",
     "text": [
      "[1.91629073 1.22314355 1.51082562 1.         1.91629073 1.91629073\n",
      " 1.         1.91629073 1.        ]\n"
     ]
    }
   ],
   "source": [
    "#IDF Values from vectorizer\n",
    "print(vectorizer.idf_)"
   ]
  },
  {
   "cell_type": "code",
   "execution_count": 14,
   "metadata": {},
   "outputs": [
    {
     "name": "stdout",
     "output_type": "stream",
     "text": [
      "CUSTOM IMPLEMENTATION OF FIT : VOCAB ::\n",
      "  ['and', 'document', 'first', 'is', 'one', 'second', 'the', 'third', 'this']\n",
      "====================================================================================================\n",
      "TFIDF Fit: \n",
      " ['and', 'document', 'first', 'is', 'one', 'second', 'the', 'third', 'this']\n"
     ]
    }
   ],
   "source": [
    "custom_vocab,sorted_idf,dict_doc_term = fit(corpus)\n",
    "print('CUSTOM IMPLEMENTATION OF FIT : VOCAB ::\\n ', list(custom_vocab.keys()))\n",
    "print('='*100)\n",
    "print('TFIDF Fit: \\n',vectorizer.get_feature_names())"
   ]
  },
  {
   "cell_type": "markdown",
   "metadata": {},
   "source": [
    "#### Custom Transform Function:"
   ]
  },
  {
   "cell_type": "code",
   "execution_count": 24,
   "metadata": {
    "scrolled": false
   },
   "outputs": [],
   "source": [
    "#Defining the transform function\n",
    "#Input parameters: corpus, vocab, idf values/word\n",
    "def transform(corpus,custom_vocab,idf_values):\n",
    "    \n",
    "    rows = []\n",
    "    columns = []\n",
    "    values = []\n",
    "    \n",
    "    #Iterating over every document in corpus\n",
    "    for idx,doc in enumerate(corpus):\n",
    "        \n",
    "        #Getting the index of the document in the corpus\n",
    "        row_index = idx\n",
    "        \n",
    "        #Creating a dictionary to keep count of occurences of a word in a document\n",
    "        col_checked = {}\n",
    "        \n",
    "        #Getting the count of words in the document\n",
    "        tf_denorm = len(doc.split(\" \"))\n",
    "        \n",
    "        #Creating a dictionary containing words (present in the document) and their occurence\n",
    "        tf_numerator_dict = dict(Counter(doc.split(\" \")))\n",
    "        \n",
    "        #Checking the length of the each word in the dictionary and discarding ones that have length less than 2\n",
    "        for word in doc.split(\" \"):\n",
    "            \n",
    "            if len(word)< 2:\n",
    "                continue\n",
    "        \n",
    "            \n",
    "            #Getting index of word in vocab (default index: -1 in case word is not present in vocab)\n",
    "            col_idx = custom_vocab.get(word, -1)\n",
    "            \n",
    "            #Checking if the word is present in vocab or not\n",
    "            if col_idx != -1:\n",
    "                \n",
    "                #Getting the count of occurences of the word in the document\n",
    "                tf_num = tf_numerator_dict.get(word)\n",
    "                \n",
    "                #Getting the Term-Frequency values for the word\n",
    "                tf = tf_num/tf_denorm\n",
    "                \n",
    "                #Getting IDF values for the word\n",
    "                final_idf = idf_values.get(word)\n",
    "                \n",
    "                #Final Tf-IDf value for the word\n",
    "                value = tf*final_idf\n",
    "                \n",
    "                #Checking the latest count of occurence of the word in the document\n",
    "                count = col_checked.get(col_idx,0)\n",
    "                \n",
    "                #Updating the count\n",
    "                col_checked[col_idx]= count+1\n",
    "                \n",
    "                #If the word is not processed then add the tfIdf value in the list\n",
    "                if(col_checked[col_idx] ==1):\n",
    "                    rows.append(row_index)\n",
    "                    columns.append(col_idx)\n",
    "                    values.append(value)\n",
    "                \n",
    "    #Creating the custom tf-idf sparse matrix \n",
    "    tdIdf_matrix = csr_matrix((values, (rows,columns)), shape=(len(corpus),len(custom_vocab)))\n",
    "    \n",
    "    #Normalizing the sparse tfidf matrix\n",
    "    tfIdf_normalized = normalize(tdIdf_matrix, norm='l2')\n",
    "    return tfIdf_normalized"
   ]
  },
  {
   "cell_type": "markdown",
   "metadata": {},
   "source": [
    "#### Testing Custom TF-IDF Results with TfIdf Vectorizer result (After Transform Function)"
   ]
  },
  {
   "cell_type": "code",
   "execution_count": 25,
   "metadata": {},
   "outputs": [],
   "source": [
    "#Fitting custom fit function on the corpus\n",
    "custom_vocab,sorted_idf,dict_doc_term = fit(corpus)\n",
    "\n",
    "#Custom transform function\n",
    "custom_tfIdf = transform(corpus,custom_vocab,sorted_idf)"
   ]
  },
  {
   "cell_type": "code",
   "execution_count": 26,
   "metadata": {},
   "outputs": [
    {
     "name": "stdout",
     "output_type": "stream",
     "text": [
      "Custom TF-IDF values for Document index 0 :: \n",
      " [[0.         0.46979139 0.58028582 0.38408524 0.         0.\n",
      "  0.38408524 0.         0.38408524]]\n"
     ]
    }
   ],
   "source": [
    "#Printing the result of transforming 1 document (Using custom tf-idf)\n",
    "print(\"Custom TF-IDF values for Document index 0 :: \\n\", custom_tfIdf[0].toarray())"
   ]
  },
  {
   "cell_type": "code",
   "execution_count": 27,
   "metadata": {},
   "outputs": [
    {
     "name": "stdout",
     "output_type": "stream",
     "text": [
      "SKLearn TF-IDF values for Document index 0 :: \n",
      " [[0.         0.46979139 0.58028582 0.38408524 0.         0.\n",
      "  0.38408524 0.         0.38408524]]\n"
     ]
    }
   ],
   "source": [
    "print(\"SKLearn TF-IDF values for Document index 0 :: \\n\", skl_output[0].toarray())"
   ]
  },
  {
   "cell_type": "code",
   "execution_count": 28,
   "metadata": {},
   "outputs": [
    {
     "name": "stdout",
     "output_type": "stream",
     "text": [
      "SKLearn IDF Values ::\n",
      " [1.91629073 1.22314355 1.51082562 1.         1.91629073 1.91629073\n",
      " 1.         1.91629073 1.        ]\n"
     ]
    }
   ],
   "source": [
    "print(\"SKLearn IDF Values ::\\n\",vectorizer.idf_)"
   ]
  },
  {
   "cell_type": "code",
   "execution_count": 29,
   "metadata": {},
   "outputs": [
    {
     "name": "stdout",
     "output_type": "stream",
     "text": [
      "Custom IDF Values ::\n",
      " {'and': 1.9162907414672588, 'document': 1.2231435536504107, 'first': 1.5108256291140785, 'is': 1.0, 'one': 1.9162907414672588, 'second': 1.9162907414672588, 'the': 1.0, 'third': 1.9162907414672588, 'this': 1.0}\n"
     ]
    }
   ],
   "source": [
    "print(\"Custom IDF Values ::\\n\",sorted_idf)"
   ]
  },
  {
   "cell_type": "code",
   "execution_count": 31,
   "metadata": {},
   "outputs": [
    {
     "name": "stdout",
     "output_type": "stream",
     "text": [
      "Complete Sparse Matrix for Custom Tf-IDf Implementation :: \n",
      "\n",
      " [[0.         0.46979139 0.58028582 0.38408524 0.         0.\n",
      "  0.38408524 0.         0.38408524]\n",
      " [0.         0.6876236  0.         0.28108867 0.         0.53864762\n",
      "  0.28108867 0.         0.28108867]\n",
      " [0.51184851 0.         0.         0.26710379 0.51184851 0.\n",
      "  0.26710379 0.51184851 0.26710379]\n",
      " [0.         0.46979139 0.58028582 0.38408524 0.         0.\n",
      "  0.38408524 0.         0.38408524]]\n"
     ]
    }
   ],
   "source": [
    "print(\"Complete Sparse Matrix for Custom Tf-IDf Implementation :: \\n\\n\",custom_tfIdf.toarray())"
   ]
  },
  {
   "cell_type": "code",
   "execution_count": 32,
   "metadata": {},
   "outputs": [
    {
     "name": "stdout",
     "output_type": "stream",
     "text": [
      "Complete Sparse Matrix for SKLearn Tf-IDf Implementation :: \n",
      "\n",
      " [[0.         0.46979139 0.58028582 0.38408524 0.         0.\n",
      "  0.38408524 0.         0.38408524]\n",
      " [0.         0.6876236  0.         0.28108867 0.         0.53864762\n",
      "  0.28108867 0.         0.28108867]\n",
      " [0.51184851 0.         0.         0.26710379 0.51184851 0.\n",
      "  0.26710379 0.51184851 0.26710379]\n",
      " [0.         0.46979139 0.58028582 0.38408524 0.         0.\n",
      "  0.38408524 0.         0.38408524]]\n"
     ]
    }
   ],
   "source": [
    "print(\"Complete Sparse Matrix for SKLearn Tf-IDf Implementation :: \\n\\n\",skl_output.toarray())"
   ]
  },
  {
   "cell_type": "markdown",
   "metadata": {
    "colab_type": "text",
    "id": "MMxBmVZExLjK"
   },
   "source": [
    "## Task-2"
   ]
  },
  {
   "cell_type": "markdown",
   "metadata": {
    "colab_type": "text",
    "id": "51j_OtqAxLjL"
   },
   "source": [
    "<font face='georgia'>\n",
    "    <h4><strong>2. Implement max features functionality:</strong></h4>\n",
    "\n",
    "<ul>\n",
    "    <li> As a part of this task you have to modify your fit and transform functions so that your vocab will contain only 50 terms with top idf scores.</li>\n",
    "    <br>\n",
    "    <li>This task is similar to your previous task, just that here your vocabulary is limited to only top 50 features names based on their idf values. Basically your output will have exactly 50 columns and the number of rows will depend on the number of documents you have in your corpus.</li>\n",
    "    <br>\n",
    "    <li>Here you will be give a pickle file, with file name <strong>cleaned_strings</strong>. You would have to load the corpus from this file and use it as input to your tfidf vectorizer.</li>\n",
    "    <br>\n",
    "    <li>Steps to approach this task:\n",
    "    <ol>\n",
    "        <li> You would have to write both fit and transform methods for your custom implementation of tfidf vectorizer, just like in the previous task. Additionally, here you have to limit the number of features generated to 50 as described above.</li>\n",
    "        <li> Now sort your vocab based in descending order of idf values and print out the words in the sorted voacb after you fit your data. Here you should be getting only 50 terms in your vocab. And make sure to print idf values for each term in your vocab. </li>\n",
    "        <li> Make sure the output of your implementation is a sparse matrix. Before generating the final output, you need to normalize your sparse matrix using L2 normalization. You can refer to this link https://scikit-learn.org/stable/modules/generated/sklearn.preprocessing.normalize.html </li>\n",
    "        <li> Now check the output of a single document in your collection of documents,  you can convert the sparse matrix related only to that document into dense matrix and print it. And this dense matrix should contain 1 row and 50 columns. </li>\n",
    "        </ol>\n",
    "    </li>\n",
    "    <br>\n",
    "   </ul>"
   ]
  },
  {
   "cell_type": "code",
   "execution_count": 33,
   "metadata": {
    "colab": {},
    "colab_type": "code",
    "id": "NHxPLlwNxLjL",
    "outputId": "9abd8e08-0e24-4975-9a13-4d3636d60323"
   },
   "outputs": [
    {
     "name": "stdout",
     "output_type": "stream",
     "text": [
      "Number of documents in corpus =  746\n"
     ]
    }
   ],
   "source": [
    "# Below is the code to load the cleaned_strings pickle file provided\n",
    "# Here corpus is of list type\n",
    "\n",
    "import pickle\n",
    "with open('cleaned_strings', 'rb') as f:\n",
    "    corpus = pickle.load(f)\n",
    "    \n",
    "# printing the length of the corpus loaded\n",
    "print(\"Number of documents in corpus = \",len(corpus))"
   ]
  },
  {
   "cell_type": "code",
   "execution_count": 34,
   "metadata": {},
   "outputs": [
    {
     "data": {
      "text/plain": [
       "['slow moving aimless movie distressed drifting young man',\n",
       " 'not sure lost flat characters audience nearly half walked',\n",
       " 'attempting artiness black white clever camera angles movie disappointed became even ridiculous acting poor plot lines almost non existent',\n",
       " 'little music anything speak',\n",
       " 'best scene movie gerardo trying find song keeps running head']"
      ]
     },
     "execution_count": 34,
     "metadata": {},
     "output_type": "execute_result"
    }
   ],
   "source": [
    "corpus[:5]"
   ]
  },
  {
   "cell_type": "code",
   "execution_count": 35,
   "metadata": {
    "colab": {},
    "colab_type": "code",
    "id": "ZULfoOIdxLjQ"
   },
   "outputs": [],
   "source": [
    "# Write your code here.\n",
    "# Try not to hardcode any values.\n",
    "# Make sure its well documented and readble with appropriate comments.\n",
    "\n",
    "#Function to get idf values for top 50(max_feature) words in the vocabulary\n",
    "def get_idf_values(corpus, vocab,max_features):\n",
    "    \n",
    "    dict_doc_term = {}\n",
    "    idf_values = {}\n",
    "    \n",
    "    #Getting the length of the corpus or total number of documents present in the corpus\n",
    "    num_doc_corpus = len(corpus)\n",
    "    \n",
    "    topWords = []\n",
    "    idf_sorted = {}\n",
    "    \n",
    "    #Iterating over every word in the vocab\n",
    "    for word in vocab:\n",
    "    \n",
    "        #Iterating over every document of the corpus\n",
    "        for sent in corpus:\n",
    "        \n",
    "            #Checking if word is present in the current document\n",
    "            if word in sent.split(\" \"):\n",
    "                \n",
    "                #Getting the latest count of documents containing the particular word (default count : 0)\n",
    "                count = dict_doc_term.get(word,0)\n",
    "                \n",
    "                #Updating the count of word in the dictionary\n",
    "                dict_doc_term[word] = count+1\n",
    "                \n",
    "                #Calculating the denominator of the idf formulae\n",
    "                idf_denorm = dict_doc_term.get(word)\n",
    "                \n",
    "                #IDF value prior to log\n",
    "                idf = (num_doc_corpus+1)/(idf_denorm+1)\n",
    "                \n",
    "                #Final IDF Value for the particular word\n",
    "                final_idf = 1 + math.log(idf,2.7182818)\n",
    "                \n",
    "                #Updating the idf dictionary with the final idf value for the word\n",
    "                idf_values[word]=final_idf\n",
    "    \n",
    "    #Sorting the idf values in descending order and selecting top 50 (max_features) words\n",
    "    topWords = sorted(idf_values, key=lambda x: x[1], reverse=True)[:max_features]\n",
    "    #topWords = sorted(idf_values, key=idf_values.get, reverse=True)[:max_features]\n",
    "    \n",
    "    #Getting the corresponding idf values for top 50 words\n",
    "    for r in topWords:\n",
    "        idf_sorted[r] = idf_values[r]\n",
    "    \n",
    "    return idf_sorted,topWords\n",
    "\n",
    "#Function to create the Vocabulary of top 50 (max_features) words for the given corpus\n",
    "def fit(corpus,max_features):\n",
    "    \n",
    "    #Set of unique words present in the corpus\n",
    "    unq_words = set()\n",
    "    \n",
    "    #Dictionary containing every word in vocab and its idf value\n",
    "    idf_values = {}\n",
    "    \n",
    "    #Checking if the corpus is a list or not, proceed if yes\n",
    "    if isinstance(corpus, (list,)):\n",
    "        \n",
    "        #Getting the length of corpus\n",
    "        num_doc_corpus = len(corpus)\n",
    "        \n",
    "        #Iterating over every document in the corpus\n",
    "        for sent in corpus:\n",
    "            \n",
    "            #Iterating over each word present in a document\n",
    "            for word in sent.split(\" \"):\n",
    "                \n",
    "                #Discarding words if length is less than 2 (eg. a/an)\n",
    "                if len(word)<2:\n",
    "                    continue\n",
    "                else:\n",
    "                    \n",
    "                    #Creating the set of unique words present in all documents of the corpus\n",
    "                    unq_words.add(word)\n",
    "        \n",
    "        #Sorting the words in the set\n",
    "        unq_words = sorted(list(unq_words))\n",
    "        \n",
    "        #Get the idf values of top 50 word in the vocab\n",
    "        idf_values,topWords = get_idf_values(corpus, unq_words,max_features)\n",
    "        \n",
    "        #Creating the vocabulary (with 50 words and their indices) for the corpus\n",
    "        vocabulary = {j:i for i,j in enumerate(topWords)}\n",
    "        \n",
    "        return vocabulary,idf_values\n",
    "                \n",
    "    else:\n",
    "        print(\"Please provide correct input. Correct input is a list of strings\")"
   ]
  },
  {
   "cell_type": "code",
   "execution_count": 36,
   "metadata": {
    "scrolled": false
   },
   "outputs": [],
   "source": [
    "vocabulary,idf_sorted = fit(corpus,50)"
   ]
  },
  {
   "cell_type": "markdown",
   "metadata": {},
   "source": [
    "#### Testing Custom TF-IDF Results with TfIdf Vectorizer result (After Fit Function with max_features functionality)"
   ]
  },
  {
   "cell_type": "code",
   "execution_count": 37,
   "metadata": {
    "colab": {},
    "colab_type": "code",
    "id": "1_DJnnR3xLjR",
    "scrolled": true
   },
   "outputs": [],
   "source": [
    "#Fitting custom fit function on the corpus\n",
    "vocabulary,idf_sorted = fit(corpus,50)"
   ]
  },
  {
   "cell_type": "code",
   "execution_count": 38,
   "metadata": {
    "scrolled": true
   },
   "outputs": [
    {
     "name": "stdout",
     "output_type": "stream",
     "text": [
      "Length of the vocabulary :: 50\n"
     ]
    }
   ],
   "source": [
    "print(\"Length of the vocabulary ::\", len(vocabulary))"
   ]
  },
  {
   "cell_type": "code",
   "execution_count": 39,
   "metadata": {},
   "outputs": [
    {
     "name": "stdout",
     "output_type": "stream",
     "text": [
      "IDF values for top 50 words in corpus :: \n",
      " {'aye': 6.922918066582849, 'dysfunction': 6.922918066582849, 'eye': 6.517452954229668, 'eyes': 6.0066273251155895, 'hype': 6.922918066582849, 'hypocrisy': 6.922918066582849, 'lyrics': 6.922918066582849, 'mystifying': 6.922918066582849, 'oy': 6.922918066582849, 'pyromaniac': 6.922918066582849, 'ryan': 6.922918066582849, 'ryans': 6.922918066582849, 'sydney': 6.922918066582849, 'sympathetic': 6.922918066582849, 'syrupy': 6.922918066582849, 'system': 6.922918066582849, 'tying': 6.922918066582849, 'type': 6.517452954229668, 'typical': 6.922918066582849, 'exactly': 6.229770878766001, 'exaggerating': 6.922918066582849, 'example': 6.229770878766001, 'excellent': 4.977007897154833, 'excellently': 6.517452954229668, 'except': 6.922918066582849, 'exceptional': 6.517452954229668, 'exceptionally': 6.922918066582849, 'excerpts': 6.922918066582849, 'excessively': 6.922918066582849, 'exchange': 6.922918066582849, 'exciting': 6.922918066582849, 'excruciatingly': 6.922918066582849, 'excuse': 6.922918066582849, 'excuses': 6.922918066582849, 'executed': 6.922918066582849, 'exemplars': 6.922918066582849, 'existent': 6.922918066582849, 'existential': 6.922918066582849, 'expansive': 6.922918066582849, 'expect': 6.0066273251155895, 'expectations': 6.922918066582849, 'expected': 6.922918066582849, 'expecting': 6.922918066582849, 'experience': 5.6701550849716815, 'experiences': 6.922918066582849, 'expert': 6.922918066582849, 'explain': 6.517452954229668, 'explains': 6.922918066582849, 'explanation': 6.517452954229668, 'exploit': 6.922918066582849}\n"
     ]
    }
   ],
   "source": [
    "print(\"IDF values for top 50 words in corpus :: \\n\", idf_sorted)"
   ]
  },
  {
   "cell_type": "markdown",
   "metadata": {},
   "source": [
    "#### Custom Transform Function with max_features functionality:"
   ]
  },
  {
   "cell_type": "code",
   "execution_count": 40,
   "metadata": {},
   "outputs": [],
   "source": [
    "#Defining the transform function\n",
    "#Input parameters: corpus, vocab, idf values/word\n",
    "def transform(corpus,custom_vocab,idf_sorted):\n",
    "    \n",
    "    rows = []\n",
    "    columns = []\n",
    "    values = []\n",
    "    \n",
    "    #Iterating over every document in corpus\n",
    "    for idx,doc in enumerate(corpus):\n",
    "        \n",
    "        #Getting the index of the document in the corpus\n",
    "        row_index = idx\n",
    "        \n",
    "        #Creating a dictionary to keep count of occurences of a word in a document\n",
    "        col_checked = {}\n",
    "        \n",
    "        #Getting the count of words in the document\n",
    "        tf_denorm = len(doc.split(\" \"))\n",
    "        \n",
    "        #Creating a dictionary containing words (present in the document) and their occurence\n",
    "        tf_numerator_dict = dict(Counter(doc.split(\" \")))\n",
    "        \n",
    "        #Checking the length of the each word in the dictionary and discarding ones that have length less than 2\n",
    "        for word in doc.split(\" \"):\n",
    "            if len(word)< 2:\n",
    "                continue\n",
    "        \n",
    "            \n",
    "            #Getting index of word in vocab (default index: -1 in case word is not present in vocab)\n",
    "            col_idx = custom_vocab.get(word, -1)\n",
    "            \n",
    "            #Checking if the word is present in vocab or not\n",
    "            if col_idx != -1:\n",
    "                \n",
    "                #Getting the count of occurences of the word in the document\n",
    "                tf_num = tf_numerator_dict.get(word)\n",
    "                \n",
    "                #Getting the Term-Frequency values for the word\n",
    "                tf = tf_num/tf_denorm\n",
    "            \n",
    "                #Getting IDF values for the word\n",
    "                final_idf = idf_sorted.get(word)\n",
    "                \n",
    "                #Final Tf-IDf value for the word\n",
    "                value = tf*final_idf\n",
    "                \n",
    "                #Checking the latest count of occurence of the word in the document\n",
    "                count = col_checked.get(col_idx,0)\n",
    "                \n",
    "                #Updating the count\n",
    "                col_checked[col_idx]= count+1\n",
    "                \n",
    "                #If the word is not processed then add the tfIdf value in the list\n",
    "                if(col_checked[col_idx] ==1):\n",
    "                    rows.append(row_index)\n",
    "                    columns.append(col_idx)\n",
    "                    values.append(value)\n",
    "                \n",
    "    #Creating the custom tf-idf sparse matrix\n",
    "    tdIdf_matrix = csr_matrix((values, (rows,columns)), shape=(len(corpus),len(custom_vocab)))\n",
    "    \n",
    "    #Normalizing the sparse tfidf matrix\n",
    "    tfIdf_normalized = normalize(tdIdf_matrix, norm='l2')\n",
    "    return tdIdf_matrix"
   ]
  },
  {
   "cell_type": "markdown",
   "metadata": {},
   "source": [
    "#### Testing Custom TF-IDF Results with TfIdf Vectorizer result (After Transform Function with max_features functionality)"
   ]
  },
  {
   "cell_type": "markdown",
   "metadata": {},
   "source": [
    "#### Checking the result for 5 documents:"
   ]
  },
  {
   "cell_type": "code",
   "execution_count": 41,
   "metadata": {},
   "outputs": [],
   "source": [
    "#Fitting custom fit function on the corpus\n",
    "vocabulary,idf_sorted = fit(corpus[:5],50)\n",
    "\n",
    "#Custom transform function\n",
    "tdIdf_matrix = transform(corpus[:5],vocabulary,idf_sorted)"
   ]
  },
  {
   "cell_type": "code",
   "execution_count": 42,
   "metadata": {},
   "outputs": [
    {
     "data": {
      "text/plain": [
       "array([[0.        , 0.        , 0.        , 0.        , 0.        ,\n",
       "        0.        , 0.        , 0.        , 0.26232654, 0.        ,\n",
       "        0.        , 0.        , 0.17568314, 0.26232654, 0.        ,\n",
       "        0.        , 0.        , 0.        , 0.26232654, 0.        ,\n",
       "        0.        , 0.        , 0.        , 0.        , 0.        ,\n",
       "        0.        , 0.26232654, 0.26232654, 0.        , 0.26232654,\n",
       "        0.        , 0.        , 0.        , 0.        , 0.        ,\n",
       "        0.        , 0.        , 0.        , 0.        , 0.        ,\n",
       "        0.        , 0.        , 0.        , 0.        , 0.        ,\n",
       "        0.        , 0.26232654, 0.        ]])"
      ]
     },
     "execution_count": 42,
     "metadata": {},
     "output_type": "execute_result"
    }
   ],
   "source": [
    "#Printing the result of transforming 1 document (Using custom tf-idf)\n",
    "tdIdf_matrix[0].toarray()"
   ]
  },
  {
   "cell_type": "markdown",
   "metadata": {},
   "source": [
    "#### Checking the result for all the documents:"
   ]
  },
  {
   "cell_type": "code",
   "execution_count": 43,
   "metadata": {},
   "outputs": [],
   "source": [
    "#Fitting custom fit function on the corpus\n",
    "vocabulary_fullCorp,idf_sorted = fit(corpus,50)\n",
    "\n",
    "#Custom transform function\n",
    "tdIdf_matrix_fullCorp = transform(corpus,vocabulary_fullCorp,idf_sorted)"
   ]
  },
  {
   "cell_type": "code",
   "execution_count": 44,
   "metadata": {},
   "outputs": [
    {
     "name": "stdout",
     "output_type": "stream",
     "text": [
      "Shape of tf-idf sparse matrix for entire corpus ::  (746, 50)\n"
     ]
    }
   ],
   "source": [
    "print('Shape of tf-idf sparse matrix for entire corpus :: ',tdIdf_matrix_fullCorp.shape)"
   ]
  },
  {
   "cell_type": "code",
   "execution_count": 46,
   "metadata": {},
   "outputs": [
    {
     "name": "stdout",
     "output_type": "stream",
     "text": [
      "Shape of tf-idf matrix for 1 document ::\n",
      "(1, 50)\n"
     ]
    }
   ],
   "source": [
    "print(\"Shape of tf-idf matrix for 1 document ::\")\n",
    "print(tdIdf_matrix_fullCorp[0].shape)"
   ]
  },
  {
   "cell_type": "code",
   "execution_count": 47,
   "metadata": {},
   "outputs": [
    {
     "name": "stdout",
     "output_type": "stream",
     "text": [
      "Complete Sparse Matrix for Custom Tf-Idf Implementation with max_features functionality :: \n",
      "\n",
      " [[0. 0. 0. ... 0. 0. 0.]\n",
      " [0. 0. 0. ... 0. 0. 0.]\n",
      " [0. 0. 0. ... 0. 0. 0.]\n",
      " ...\n",
      " [0. 0. 0. ... 0. 0. 0.]\n",
      " [0. 0. 0. ... 0. 0. 0.]\n",
      " [0. 0. 0. ... 0. 0. 0.]]\n"
     ]
    }
   ],
   "source": [
    "print(\"Complete Sparse Matrix for Custom Tf-Idf Implementation with max_features functionality :: \\n\\n\",tdIdf_matrix_fullCorp.toarray())"
   ]
  },
  {
   "cell_type": "code",
   "execution_count": null,
   "metadata": {},
   "outputs": [],
   "source": []
  }
 ],
 "metadata": {
  "colab": {
   "collapsed_sections": [],
   "name": "Assignment_3_Instructions.ipynb",
   "provenance": []
  },
  "kernelspec": {
   "display_name": "Python 3",
   "language": "python",
   "name": "python3"
  },
  "language_info": {
   "codemirror_mode": {
    "name": "ipython",
    "version": 3
   },
   "file_extension": ".py",
   "mimetype": "text/x-python",
   "name": "python",
   "nbconvert_exporter": "python",
   "pygments_lexer": "ipython3",
   "version": "3.9.5"
  }
 },
 "nbformat": 4,
 "nbformat_minor": 1
}
